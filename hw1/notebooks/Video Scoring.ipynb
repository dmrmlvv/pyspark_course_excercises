{
 "cells": [
  {
   "cell_type": "code",
   "execution_count": 4,
   "id": "4b94b2e0-3796-411b-ad82-1b56e7f89e1f",
   "metadata": {},
   "outputs": [],
   "source": [
    "import pyspark\n",
    "from pyspark.sql.functions import *\n",
    "from pyspark.sql.types import *\n",
    "from pyspark.sql import SparkSession\n",
    "\n",
    "spark = (SparkSession.builder.master(\"local\") \n",
    "    .config('spark.sql.autoBroadcastJoinThreshold', -1)  # отключим авто бродкаст\n",
    "    .config('spark.sql.adaptive.enabled', 'true')  # включим оптимизатор, лишнем не будет\n",
    "    .getOrCreate())"
   ]
  },
  {
   "cell_type": "code",
   "execution_count": 5,
   "id": "c5b3cb26",
   "metadata": {},
   "outputs": [
    {
     "data": {
      "text/html": [
       "\n",
       "            <div>\n",
       "                <p><b>SparkSession - in-memory</b></p>\n",
       "                \n",
       "        <div>\n",
       "            <p><b>SparkContext</b></p>\n",
       "\n",
       "            <p><a href=\"http://a7ea3cf479de:4040\">Spark UI</a></p>\n",
       "\n",
       "            <dl>\n",
       "              <dt>Version</dt>\n",
       "                <dd><code>v3.4.0</code></dd>\n",
       "              <dt>Master</dt>\n",
       "                <dd><code>local</code></dd>\n",
       "              <dt>AppName</dt>\n",
       "                <dd><code>pyspark-shell</code></dd>\n",
       "            </dl>\n",
       "        </div>\n",
       "        \n",
       "            </div>\n",
       "        "
      ],
      "text/plain": [
       "<pyspark.sql.session.SparkSession at 0xffff5f8bfd50>"
      ]
     },
     "execution_count": 5,
     "metadata": {},
     "output_type": "execute_result"
    }
   ],
   "source": [
    "spark"
   ]
  },
  {
   "cell_type": "code",
   "execution_count": null,
   "id": "dd41be7c",
   "metadata": {},
   "outputs": [],
   "source": []
  },
  {
   "cell_type": "code",
   "execution_count": 6,
   "id": "32f765e5",
   "metadata": {
    "scrolled": true
   },
   "outputs": [
    {
     "name": "stdout",
     "output_type": "stream",
     "text": [
      "+-----------+--------------------+----------------+-----------+--------------------+-------+------+--------+-------------+--------------------+-----+\n",
      "|   video_id|               title|   channel_title|category_id|                tags|  views| likes|dislikes|comment_total|      thumbnail_link| date|\n",
      "+-----------+--------------------+----------------+-----------+--------------------+-------+------+--------+-------------+--------------------+-----+\n",
      "|XpVt6Z1Gjjo|1 YEAR OF VLOGGIN...|Logan Paul Vlogs|         24|logan paul vlog|l...|4394029|320053|    5931|        46245|https://i.ytimg.c...|13.09|\n",
      "|K4wEI5zhHB0|iPhone X — Introd...|           Apple|         28|Apple|iPhone 10|i...|7860119|185853|   26679|            0|https://i.ytimg.c...|13.09|\n",
      "|cLdxuaxaQwc|         My Response|       PewDiePie|         22|              [none]|5845909|576597|   39774|       170708|https://i.ytimg.c...|13.09|\n",
      "|WYYvHb03Eog|Apple iPhone X fi...|       The Verge|         28|apple iphone x ha...|2642103| 24975|    4542|        12829|https://i.ytimg.c...|13.09|\n",
      "|sjlHnJvXdQs|   iPhone X (parody)|      jacksfilms|         23|jacksfilms|parody...|1168130| 96666|     568|         6666|https://i.ytimg.c...|13.09|\n",
      "+-----------+--------------------+----------------+-----------+--------------------+-------+------+--------+-------------+--------------------+-----+\n",
      "only showing top 5 rows\n",
      "\n"
     ]
    }
   ],
   "source": [
    "videos = spark.read.option('header', 'true').option(\"inferSchema\", \"true\").csv('../datasets/USvideos.csv')\n",
    "videos.show(5)"
   ]
  },
  {
   "cell_type": "code",
   "execution_count": null,
   "id": "9d4d0dbb",
   "metadata": {},
   "outputs": [],
   "source": []
  },
  {
   "cell_type": "code",
   "execution_count": 7,
   "id": "267e4485",
   "metadata": {},
   "outputs": [
    {
     "name": "stdout",
     "output_type": "stream",
     "text": [
      "+-----------+--------------------+-----+-------+\n",
      "|   video_id|        comment_text|likes|replies|\n",
      "+-----------+--------------------+-----+-------+\n",
      "|XpVt6Z1Gjjo|Logan Paul it's y...|    4|      0|\n",
      "|XpVt6Z1Gjjo|I've been followi...|    3|      0|\n",
      "|XpVt6Z1Gjjo|Say hi to Kong an...|    3|      0|\n",
      "|XpVt6Z1Gjjo| MY FAN . attendance|    3|      0|\n",
      "|XpVt6Z1Gjjo|         trending 😉|    3|      0|\n",
      "+-----------+--------------------+-----+-------+\n",
      "only showing top 5 rows\n",
      "\n"
     ]
    }
   ],
   "source": [
    "comments_schema = StructType([ \\\n",
    "    StructField(\"video_id\", StringType(), True), \\\n",
    "    StructField(\"comment_text\", StringType(), True), \\\n",
    "    StructField(\"likes\", IntegerType(), True), \\\n",
    "    StructField(\"replies\", IntegerType(), True)])\n",
    "comments = spark.read.option('header', 'true').option(\"mode\", \"DROPMALFORMED\").schema(comments_schema).csv('../datasets/UScomments.csv')\n",
    "comments.show(5)"
   ]
  },
  {
   "cell_type": "code",
   "execution_count": null,
   "id": "480a016a",
   "metadata": {},
   "outputs": [],
   "source": []
  },
  {
   "cell_type": "markdown",
   "id": "d7863625",
   "metadata": {},
   "source": [
    "## Task 1"
   ]
  },
  {
   "cell_type": "code",
   "execution_count": 11,
   "id": "345022d1-3183-4012-a959-c4845edaff45",
   "metadata": {},
   "outputs": [],
   "source": [
    "prepared_comm = comments.groupBy(col('video_id')).agg(sum(col('likes')).alias('sum_comm_likes'), sum(col('replies')).alias('sum_comm_replies'))"
   ]
  },
  {
   "cell_type": "code",
   "execution_count": 12,
   "id": "b51d4d51-541a-492e-affc-b580a914a612",
   "metadata": {},
   "outputs": [
    {
     "name": "stdout",
     "output_type": "stream",
     "text": [
      "+-----------+--------------+----------------+\n",
      "|   video_id|sum_comm_likes|sum_comm_replies|\n",
      "+-----------+--------------+----------------+\n",
      "|xPS7bqBePSs|          1037|              28|\n",
      "|dInwVhRtN4E|            63|              13|\n",
      "|rn5Xgak1zzA|            14|               7|\n",
      "|TzyraAp3jaY|          1126|              48|\n",
      "|eHq6ZA6uKOg|           797|             138|\n",
      "|_r5eTelhpmQ|           749|             123|\n",
      "|JkqTeQHFoBY|           558|              98|\n",
      "|Bo-qp-Zu0OY|            71|               8|\n",
      "|K7pQsR8WFSo|           104|              56|\n",
      "|g_ekn1gjBq0|            47|              22|\n",
      "|4yCkkOvIkUI|            36|               4|\n",
      "|7TN09IP5JuI|            34|               0|\n",
      "|RE-far-FvRs|            40|               4|\n",
      "|WQjO1mMCPg4|            61|               5|\n",
      "|aRgTLb5EbiQ|           735|              29|\n",
      "|xNddRhpx5tA|            85|               9|\n",
      "|tUXLO8Dtvq4|            26|               2|\n",
      "|a7Sf_H2cFdM|            35|              11|\n",
      "|mGqR9sgMIyA|            79|              40|\n",
      "|fBTBc2OA9fw|            34|               8|\n",
      "+-----------+--------------+----------------+\n",
      "only showing top 20 rows\n",
      "\n"
     ]
    }
   ],
   "source": [
    "prepared_comm.show()"
   ]
  },
  {
   "cell_type": "code",
   "execution_count": 15,
   "id": "2efa4a02",
   "metadata": {},
   "outputs": [],
   "source": [
    "scored_videos = (\n",
    "    videos.alias('v')\n",
    "    .join(prepared_comm.alias('c'), ['video_id']) # автобродкаст выключен в конфиге, поэтому можно явно не выключать здесь\n",
    "    .withColumn('score', (col('views') + col('likes') + col('comment_total') + col('sum_comm_likes') + col('sum_comm_replies') - col('dislikes')) / 100000)\n",
    ")"
   ]
  },
  {
   "cell_type": "code",
   "execution_count": 17,
   "id": "195b793e",
   "metadata": {},
   "outputs": [
    {
     "data": {
      "text/html": [
       "<div>\n",
       "<style scoped>\n",
       "    .dataframe tbody tr th:only-of-type {\n",
       "        vertical-align: middle;\n",
       "    }\n",
       "\n",
       "    .dataframe tbody tr th {\n",
       "        vertical-align: top;\n",
       "    }\n",
       "\n",
       "    .dataframe thead th {\n",
       "        text-align: right;\n",
       "    }\n",
       "</style>\n",
       "<table border=\"1\" class=\"dataframe\">\n",
       "  <thead>\n",
       "    <tr style=\"text-align: right;\">\n",
       "      <th></th>\n",
       "      <th>video_id</th>\n",
       "      <th>title</th>\n",
       "      <th>channel_title</th>\n",
       "      <th>category_id</th>\n",
       "      <th>tags</th>\n",
       "      <th>views</th>\n",
       "      <th>likes</th>\n",
       "      <th>dislikes</th>\n",
       "      <th>comment_total</th>\n",
       "      <th>thumbnail_link</th>\n",
       "      <th>date</th>\n",
       "      <th>sum_comm_likes</th>\n",
       "      <th>sum_comm_replies</th>\n",
       "      <th>score</th>\n",
       "    </tr>\n",
       "  </thead>\n",
       "  <tbody>\n",
       "    <tr>\n",
       "      <th>0</th>\n",
       "      <td>--JinobXWPk</td>\n",
       "      <td>DANGEROUS Jungle Spider!</td>\n",
       "      <td>Brave Wilderness</td>\n",
       "      <td>15</td>\n",
       "      <td>adventure|adventurous|animals|breaking|breakin...</td>\n",
       "      <td>1319945</td>\n",
       "      <td>38949</td>\n",
       "      <td>533</td>\n",
       "      <td>6768</td>\n",
       "      <td>https://i.ytimg.com/vi/--JinobXWPk/default.jpg</td>\n",
       "      <td>20.10</td>\n",
       "      <td>19</td>\n",
       "      <td>1</td>\n",
       "      <td>13.65149</td>\n",
       "    </tr>\n",
       "    <tr>\n",
       "      <th>1</th>\n",
       "      <td>-1fzGnFwz9M</td>\n",
       "      <td>9 Things You Need To Know About Kittens - Simo...</td>\n",
       "      <td>Simon's Cat</td>\n",
       "      <td>15</td>\n",
       "      <td>cartoon|simons cat|simon's cat|simonscat|simon...</td>\n",
       "      <td>189414</td>\n",
       "      <td>7070</td>\n",
       "      <td>112</td>\n",
       "      <td>288</td>\n",
       "      <td>https://i.ytimg.com/vi/-1fzGnFwz9M/default.jpg</td>\n",
       "      <td>13.09</td>\n",
       "      <td>874</td>\n",
       "      <td>22</td>\n",
       "      <td>1.97556</td>\n",
       "    </tr>\n",
       "    <tr>\n",
       "      <th>2</th>\n",
       "      <td>-3AGlBYyLjo</td>\n",
       "      <td>Best Tom Petty Interview Ever</td>\n",
       "      <td>CrazyLaughAction</td>\n",
       "      <td>24</td>\n",
       "      <td>tom|petty|tom petty|Tom Petty|Tom Petty (Music...</td>\n",
       "      <td>2143</td>\n",
       "      <td>16</td>\n",
       "      <td>2</td>\n",
       "      <td>4</td>\n",
       "      <td>https://i.ytimg.com/vi/-3AGlBYyLjo/default.jpg</td>\n",
       "      <td>06.10</td>\n",
       "      <td>2</td>\n",
       "      <td>0</td>\n",
       "      <td>0.02163</td>\n",
       "    </tr>\n",
       "    <tr>\n",
       "      <th>3</th>\n",
       "      <td>-5sCWsLlTCI</td>\n",
       "      <td>SNL Host Kumail Nanjiani and P!nk Share Favori...</td>\n",
       "      <td>Saturday Night Live</td>\n",
       "      <td>24</td>\n",
       "      <td>saturday night live|snl|snl season 43|kumail n...</td>\n",
       "      <td>85052</td>\n",
       "      <td>1458</td>\n",
       "      <td>97</td>\n",
       "      <td>132</td>\n",
       "      <td>https://i.ytimg.com/vi/-5sCWsLlTCI/default.jpg</td>\n",
       "      <td>14.10</td>\n",
       "      <td>494</td>\n",
       "      <td>39</td>\n",
       "      <td>0.87078</td>\n",
       "    </tr>\n",
       "    <tr>\n",
       "      <th>4</th>\n",
       "      <td>-6Zc8Co2H3w</td>\n",
       "      <td>Honest Trailers - Star Trek: The Next Generation</td>\n",
       "      <td>Screen Junkies</td>\n",
       "      <td>1</td>\n",
       "      <td>screen junkies|screenjunkies|sj news|honest tr...</td>\n",
       "      <td>1547293</td>\n",
       "      <td>42960</td>\n",
       "      <td>1075</td>\n",
       "      <td>7498</td>\n",
       "      <td>https://i.ytimg.com/vi/-6Zc8Co2H3w/default.jpg</td>\n",
       "      <td>28.09</td>\n",
       "      <td>38</td>\n",
       "      <td>1</td>\n",
       "      <td>15.96715</td>\n",
       "    </tr>\n",
       "  </tbody>\n",
       "</table>\n",
       "</div>"
      ],
      "text/plain": [
       "      video_id                                              title  \\\n",
       "0  --JinobXWPk                           DANGEROUS Jungle Spider!   \n",
       "1  -1fzGnFwz9M  9 Things You Need To Know About Kittens - Simo...   \n",
       "2  -3AGlBYyLjo                      Best Tom Petty Interview Ever   \n",
       "3  -5sCWsLlTCI  SNL Host Kumail Nanjiani and P!nk Share Favori...   \n",
       "4  -6Zc8Co2H3w   Honest Trailers - Star Trek: The Next Generation   \n",
       "\n",
       "         channel_title  category_id  \\\n",
       "0     Brave Wilderness           15   \n",
       "1          Simon's Cat           15   \n",
       "2     CrazyLaughAction           24   \n",
       "3  Saturday Night Live           24   \n",
       "4       Screen Junkies            1   \n",
       "\n",
       "                                                tags    views  likes  \\\n",
       "0  adventure|adventurous|animals|breaking|breakin...  1319945  38949   \n",
       "1  cartoon|simons cat|simon's cat|simonscat|simon...   189414   7070   \n",
       "2  tom|petty|tom petty|Tom Petty|Tom Petty (Music...     2143     16   \n",
       "3  saturday night live|snl|snl season 43|kumail n...    85052   1458   \n",
       "4  screen junkies|screenjunkies|sj news|honest tr...  1547293  42960   \n",
       "\n",
       "   dislikes  comment_total                                  thumbnail_link  \\\n",
       "0       533           6768  https://i.ytimg.com/vi/--JinobXWPk/default.jpg   \n",
       "1       112            288  https://i.ytimg.com/vi/-1fzGnFwz9M/default.jpg   \n",
       "2         2              4  https://i.ytimg.com/vi/-3AGlBYyLjo/default.jpg   \n",
       "3        97            132  https://i.ytimg.com/vi/-5sCWsLlTCI/default.jpg   \n",
       "4      1075           7498  https://i.ytimg.com/vi/-6Zc8Co2H3w/default.jpg   \n",
       "\n",
       "    date  sum_comm_likes  sum_comm_replies     score  \n",
       "0  20.10              19                 1  13.65149  \n",
       "1  13.09             874                22   1.97556  \n",
       "2  06.10               2                 0   0.02163  \n",
       "3  14.10             494                39   0.87078  \n",
       "4  28.09              38                 1  15.96715  "
      ]
     },
     "execution_count": 17,
     "metadata": {},
     "output_type": "execute_result"
    }
   ],
   "source": [
    "scored_videos.limit(5).toPandas()"
   ]
  },
  {
   "cell_type": "markdown",
   "id": "40a99d42",
   "metadata": {},
   "source": [
    "## Task 2"
   ]
  },
  {
   "cell_type": "code",
   "execution_count": 3,
   "id": "a898cbbb",
   "metadata": {},
   "outputs": [],
   "source": [
    "import json\n",
    "import pandas as pd\n",
    "from pyspark.sql.types import StringType"
   ]
  },
  {
   "cell_type": "code",
   "execution_count": 4,
   "id": "0c182ec1",
   "metadata": {},
   "outputs": [],
   "source": [
    "with open(\"../datasets/US_category_id.json\", \"r\") as write_file:\n",
    "    cat = json.load(write_file)\n",
    "\n",
    "items = cat.get('items')\n",
    "\n",
    "category_dict = {}\n",
    "for i in items:\n",
    "    category_dict[i.get('id')] = i.get('snippet').get('title')\n",
    "    \n",
    "data_list = [(k, v) for k, v in category_dict.items()]"
   ]
  },
  {
   "cell_type": "code",
   "execution_count": 8,
   "id": "0a3cdcae",
   "metadata": {},
   "outputs": [],
   "source": [
    "category_df = spark.createDataFrame(data_list, ['category_id', 'title_name'])"
   ]
  },
  {
   "cell_type": "code",
   "execution_count": 9,
   "id": "6d03ce70",
   "metadata": {},
   "outputs": [
    {
     "data": {
      "text/html": [
       "<div>\n",
       "<style scoped>\n",
       "    .dataframe tbody tr th:only-of-type {\n",
       "        vertical-align: middle;\n",
       "    }\n",
       "\n",
       "    .dataframe tbody tr th {\n",
       "        vertical-align: top;\n",
       "    }\n",
       "\n",
       "    .dataframe thead th {\n",
       "        text-align: right;\n",
       "    }\n",
       "</style>\n",
       "<table border=\"1\" class=\"dataframe\">\n",
       "  <thead>\n",
       "    <tr style=\"text-align: right;\">\n",
       "      <th></th>\n",
       "      <th>category_id</th>\n",
       "      <th>title_name</th>\n",
       "    </tr>\n",
       "  </thead>\n",
       "  <tbody>\n",
       "    <tr>\n",
       "      <th>0</th>\n",
       "      <td>1</td>\n",
       "      <td>Film &amp; Animation</td>\n",
       "    </tr>\n",
       "    <tr>\n",
       "      <th>1</th>\n",
       "      <td>2</td>\n",
       "      <td>Autos &amp; Vehicles</td>\n",
       "    </tr>\n",
       "    <tr>\n",
       "      <th>2</th>\n",
       "      <td>10</td>\n",
       "      <td>Music</td>\n",
       "    </tr>\n",
       "    <tr>\n",
       "      <th>3</th>\n",
       "      <td>15</td>\n",
       "      <td>Pets &amp; Animals</td>\n",
       "    </tr>\n",
       "    <tr>\n",
       "      <th>4</th>\n",
       "      <td>17</td>\n",
       "      <td>Sports</td>\n",
       "    </tr>\n",
       "  </tbody>\n",
       "</table>\n",
       "</div>"
      ],
      "text/plain": [
       "  category_id        title_name\n",
       "0           1  Film & Animation\n",
       "1           2  Autos & Vehicles\n",
       "2          10             Music\n",
       "3          15    Pets & Animals\n",
       "4          17            Sports"
      ]
     },
     "execution_count": 9,
     "metadata": {},
     "output_type": "execute_result"
    }
   ],
   "source": [
    "category_df.limit(5).toPandas()"
   ]
  },
  {
   "cell_type": "code",
   "execution_count": 16,
   "id": "2bd3b81b",
   "metadata": {},
   "outputs": [],
   "source": [
    "from pyspark.sql.functions import pandas_udf, udf, PandasUDFType\n",
    "import numpy as np"
   ]
  },
  {
   "cell_type": "code",
   "execution_count": 100,
   "id": "ae1c4e17",
   "metadata": {},
   "outputs": [],
   "source": []
  },
  {
   "cell_type": "code",
   "execution_count": 17,
   "id": "9704540a",
   "metadata": {},
   "outputs": [],
   "source": [
    "# датасет маленький, поэтому лучше использовать бродкаст джоин\n",
    "categories_score = scored_videos.join(category_df.hint('broadcast'), ['category_id'])"
   ]
  },
  {
   "cell_type": "code",
   "execution_count": 18,
   "id": "87ac2ac0",
   "metadata": {},
   "outputs": [
    {
     "name": "stderr",
     "output_type": "stream",
     "text": [
      "/usr/local/spark/python/pyspark/sql/pandas/functions.py:399: UserWarning: In Python 3.6+ and Spark 3.0+, it is preferred to specify type hints for pandas UDF instead of specifying pandas UDF type which will be deprecated in the future releases. See SPARK-28264 for more details.\n",
      "  warnings.warn(\n"
     ]
    }
   ],
   "source": [
    "@pandas_udf(FloatType(), PandasUDFType.GROUPED_AGG)\n",
    "def median__pandas_udf(scores):\n",
    "    median = np.median(scores)\n",
    "    return median"
   ]
  },
  {
   "cell_type": "code",
   "execution_count": 19,
   "id": "a04c6355",
   "metadata": {},
   "outputs": [
    {
     "name": "stdout",
     "output_type": "stream",
     "text": [
      "CPU times: user 4 µs, sys: 2 µs, total: 6 µs\n",
      "Wall time: 47.4 µs\n"
     ]
    }
   ],
   "source": [
    "%time\n",
    "medians_df = (\n",
    "    categories_score\n",
    "    .groupBy(col('title_name'))\n",
    "    .agg(median__pandas_udf(col('score')))\n",
    ")"
   ]
  },
  {
   "cell_type": "code",
   "execution_count": 20,
   "id": "c0c2f5d9",
   "metadata": {},
   "outputs": [
    {
     "data": {
      "text/html": [
       "<div>\n",
       "<style scoped>\n",
       "    .dataframe tbody tr th:only-of-type {\n",
       "        vertical-align: middle;\n",
       "    }\n",
       "\n",
       "    .dataframe tbody tr th {\n",
       "        vertical-align: top;\n",
       "    }\n",
       "\n",
       "    .dataframe thead th {\n",
       "        text-align: right;\n",
       "    }\n",
       "</style>\n",
       "<table border=\"1\" class=\"dataframe\">\n",
       "  <thead>\n",
       "    <tr style=\"text-align: right;\">\n",
       "      <th></th>\n",
       "      <th>title_name</th>\n",
       "      <th>median__pandas_udf(score)</th>\n",
       "    </tr>\n",
       "  </thead>\n",
       "  <tbody>\n",
       "    <tr>\n",
       "      <th>0</th>\n",
       "      <td>Shows</td>\n",
       "      <td>0.086335</td>\n",
       "    </tr>\n",
       "    <tr>\n",
       "      <th>1</th>\n",
       "      <td>Education</td>\n",
       "      <td>2.526625</td>\n",
       "    </tr>\n",
       "    <tr>\n",
       "      <th>2</th>\n",
       "      <td>Gaming</td>\n",
       "      <td>2.779255</td>\n",
       "    </tr>\n",
       "  </tbody>\n",
       "</table>\n",
       "</div>"
      ],
      "text/plain": [
       "  title_name  median__pandas_udf(score)\n",
       "0      Shows                   0.086335\n",
       "1  Education                   2.526625\n",
       "2     Gaming                   2.779255"
      ]
     },
     "execution_count": 20,
     "metadata": {},
     "output_type": "execute_result"
    }
   ],
   "source": [
    "medians_df.limit(3).toPandas()"
   ]
  },
  {
   "cell_type": "markdown",
   "id": "1a24b47a",
   "metadata": {},
   "source": [
    "## Task 3"
   ]
  },
  {
   "cell_type": "markdown",
   "id": "a2b28fbe",
   "metadata": {},
   "source": [
    "### Тест обычной udf"
   ]
  },
  {
   "cell_type": "code",
   "execution_count": 24,
   "id": "d5af3bc7",
   "metadata": {},
   "outputs": [],
   "source": [
    "@udf('array<string>')\n",
    "def split_tags_udf(tags):\n",
    "    return tags.split('|')"
   ]
  },
  {
   "cell_type": "code",
   "execution_count": 25,
   "id": "797bcb6d",
   "metadata": {},
   "outputs": [
    {
     "name": "stdout",
     "output_type": "stream",
     "text": [
      "CPU times: user 8 µs, sys: 0 ns, total: 8 µs\n",
      "Wall time: 43.9 µs\n"
     ]
    }
   ],
   "source": [
    "%time\n",
    "popular_tags = (\n",
    "    scored_videos\n",
    "    .withColumn('tags', explode(split_tags_udf('tags')))\n",
    "    .groupBy('tags').agg(count('video_id').alias('cnt_tags'))\n",
    ")"
   ]
  },
  {
   "cell_type": "code",
   "execution_count": 26,
   "id": "143103fa",
   "metadata": {},
   "outputs": [
    {
     "data": {
      "text/html": [
       "<div>\n",
       "<style scoped>\n",
       "    .dataframe tbody tr th:only-of-type {\n",
       "        vertical-align: middle;\n",
       "    }\n",
       "\n",
       "    .dataframe tbody tr th {\n",
       "        vertical-align: top;\n",
       "    }\n",
       "\n",
       "    .dataframe thead th {\n",
       "        text-align: right;\n",
       "    }\n",
       "</style>\n",
       "<table border=\"1\" class=\"dataframe\">\n",
       "  <thead>\n",
       "    <tr style=\"text-align: right;\">\n",
       "      <th></th>\n",
       "      <th>tags</th>\n",
       "      <th>cnt_tags</th>\n",
       "    </tr>\n",
       "  </thead>\n",
       "  <tbody>\n",
       "    <tr>\n",
       "      <th>0</th>\n",
       "      <td>funny</td>\n",
       "      <td>722</td>\n",
       "    </tr>\n",
       "    <tr>\n",
       "      <th>1</th>\n",
       "      <td>comedy</td>\n",
       "      <td>572</td>\n",
       "    </tr>\n",
       "    <tr>\n",
       "      <th>2</th>\n",
       "      <td>[none]</td>\n",
       "      <td>491</td>\n",
       "    </tr>\n",
       "  </tbody>\n",
       "</table>\n",
       "</div>"
      ],
      "text/plain": [
       "     tags  cnt_tags\n",
       "0   funny       722\n",
       "1  comedy       572\n",
       "2  [none]       491"
      ]
     },
     "execution_count": 26,
     "metadata": {},
     "output_type": "execute_result"
    }
   ],
   "source": [
    "popular_tags.orderBy(desc('cnt_tags')).limit(3).toPandas()"
   ]
  },
  {
   "cell_type": "markdown",
   "id": "83191678",
   "metadata": {},
   "source": [
    "### Тест pandas_udf"
   ]
  },
  {
   "cell_type": "code",
   "execution_count": 44,
   "id": "35d48fb4",
   "metadata": {},
   "outputs": [
    {
     "name": "stderr",
     "output_type": "stream",
     "text": [
      "/usr/local/spark/python/pyspark/sql/pandas/functions.py:399: UserWarning: In Python 3.6+ and Spark 3.0+, it is preferred to specify type hints for pandas UDF instead of specifying pandas UDF type which will be deprecated in the future releases. See SPARK-28264 for more details.\n",
      "  warnings.warn(\n"
     ]
    }
   ],
   "source": [
    "@pandas_udf('array<string>', PandasUDFType.SCALAR)\n",
    "def split_tags_pandas_udf(tags):\n",
    "    return tags.str.split('|')"
   ]
  },
  {
   "cell_type": "code",
   "execution_count": 28,
   "id": "2624e734",
   "metadata": {},
   "outputs": [
    {
     "name": "stdout",
     "output_type": "stream",
     "text": [
      "CPU times: user 18 µs, sys: 4 µs, total: 22 µs\n",
      "Wall time: 38.4 µs\n"
     ]
    }
   ],
   "source": [
    "%time\n",
    "popular_tags = (\n",
    "    scored_videos\n",
    "    .withColumn('tags', explode(split_tags_pandas_udf('tags')))\n",
    "    .groupBy('tags').agg(count('video_id').alias('cnt_tags'))\n",
    ")"
   ]
  },
  {
   "cell_type": "markdown",
   "id": "4da64dc6",
   "metadata": {},
   "source": [
    "### Тест scala udf"
   ]
  },
  {
   "cell_type": "code",
   "execution_count": 29,
   "id": "fc021c39",
   "metadata": {},
   "outputs": [],
   "source": [
    "from pyspark.sql.column import Column\n",
    "from pyspark.sql.column import _to_java_column \n",
    "from pyspark.sql.column import _to_seq\n",
    "\n",
    "sc = spark.sparkContext\n",
    "\n",
    "def udf_split_tags_scala_wrapper(tags):\n",
    "    split_tags_scala = sc._jvm.CustomUDFs.splitTagsUDF()\n",
    "    return Column(split_tags_scala.apply(_to_seq(sc, [tags], _to_java_column)))"
   ]
  },
  {
   "cell_type": "code",
   "execution_count": 30,
   "id": "3b675e25",
   "metadata": {},
   "outputs": [
    {
     "name": "stdout",
     "output_type": "stream",
     "text": [
      "CPU times: user 7 µs, sys: 0 ns, total: 7 µs\n",
      "Wall time: 13.6 µs\n"
     ]
    }
   ],
   "source": [
    "%time\n",
    "popular_tags = (\n",
    "    scored_videos\n",
    "    .withColumn('tags', explode(udf_split_tags_scala_wrapper('tags')))\n",
    "    .groupBy('tags').agg(count('video_id').alias('cnt_tags'))\n",
    ")"
   ]
  },
  {
   "cell_type": "code",
   "execution_count": 32,
   "id": "769c1985",
   "metadata": {},
   "outputs": [
    {
     "data": {
      "text/html": [
       "<div>\n",
       "<style scoped>\n",
       "    .dataframe tbody tr th:only-of-type {\n",
       "        vertical-align: middle;\n",
       "    }\n",
       "\n",
       "    .dataframe tbody tr th {\n",
       "        vertical-align: top;\n",
       "    }\n",
       "\n",
       "    .dataframe thead th {\n",
       "        text-align: right;\n",
       "    }\n",
       "</style>\n",
       "<table border=\"1\" class=\"dataframe\">\n",
       "  <thead>\n",
       "    <tr style=\"text-align: right;\">\n",
       "      <th></th>\n",
       "      <th>tags</th>\n",
       "      <th>cnt_tags</th>\n",
       "    </tr>\n",
       "  </thead>\n",
       "  <tbody>\n",
       "    <tr>\n",
       "      <th>0</th>\n",
       "      <td>funny</td>\n",
       "      <td>722</td>\n",
       "    </tr>\n",
       "    <tr>\n",
       "      <th>1</th>\n",
       "      <td>comedy</td>\n",
       "      <td>572</td>\n",
       "    </tr>\n",
       "    <tr>\n",
       "      <th>2</th>\n",
       "      <td>[none]</td>\n",
       "      <td>491</td>\n",
       "    </tr>\n",
       "  </tbody>\n",
       "</table>\n",
       "</div>"
      ],
      "text/plain": [
       "     tags  cnt_tags\n",
       "0   funny       722\n",
       "1  comedy       572\n",
       "2  [none]       491"
      ]
     },
     "execution_count": 32,
     "metadata": {},
     "output_type": "execute_result"
    }
   ],
   "source": [
    "popular_tags.orderBy(desc('cnt_tags')).limit(3).toPandas()"
   ]
  },
  {
   "cell_type": "markdown",
   "id": "2e0acfd4",
   "metadata": {},
   "source": [
    "### Вывод\n",
    "Очевидно самая быстрая реализация udf в Scala, а самая медленная у обычной питоновской udf"
   ]
  },
  {
   "cell_type": "markdown",
   "id": "77c51c75",
   "metadata": {},
   "source": [
    "## Task 4"
   ]
  },
  {
   "cell_type": "code",
   "execution_count": 84,
   "id": "193673fe",
   "metadata": {},
   "outputs": [],
   "source": [
    "cats_df = videos.withColumn('tags', explode(split_tags_pandas_udf('tags'))).filter(col('tags') == 'cat')"
   ]
  },
  {
   "cell_type": "markdown",
   "id": "fbf0d73f",
   "metadata": {},
   "source": [
    "Так как мы уменьшили размер выборки, можно попробовать использовать бродкаст джоин"
   ]
  },
  {
   "cell_type": "code",
   "execution_count": 110,
   "id": "3ce2b566",
   "metadata": {
    "scrolled": true
   },
   "outputs": [
    {
     "name": "stdout",
     "output_type": "stream",
     "text": [
      "CPU times: user 6 µs, sys: 2 µs, total: 8 µs\n",
      "Wall time: 15 µs\n"
     ]
    }
   ],
   "source": [
    "%time\n",
    "cats_comments = (\n",
    "    cats_df\n",
    "    .join(comments.hint('broadcast').alias('c'), ['video_id'])\n",
    "    .select(col('title'), col('comment_text'), col('c.likes'), )\n",
    "    .distinct()\n",
    "    .orderBy(desc('likes'))\n",
    ")"
   ]
  },
  {
   "cell_type": "markdown",
   "id": "9e8fc943",
   "metadata": {},
   "source": [
    "И проверим без бродкаста "
   ]
  },
  {
   "cell_type": "code",
   "execution_count": 112,
   "id": "512b650b",
   "metadata": {},
   "outputs": [
    {
     "name": "stdout",
     "output_type": "stream",
     "text": [
      "CPU times: user 10 µs, sys: 0 ns, total: 10 µs\n",
      "Wall time: 15.7 µs\n"
     ]
    }
   ],
   "source": [
    "%time\n",
    "cats_comments = (\n",
    "    cats_df\n",
    "    .join(comments.alias('c'), ['video_id'])\n",
    "    .select(col('title'), col('comment_text'), col('c.likes'), )\n",
    "    .distinct()\n",
    "    .orderBy(desc('likes'))\n",
    ")"
   ]
  },
  {
   "cell_type": "markdown",
   "id": "fbd48583",
   "metadata": {},
   "source": [
    "Прирост на уровне погрешности"
   ]
  },
  {
   "cell_type": "code",
   "execution_count": 113,
   "id": "4e4d37db",
   "metadata": {},
   "outputs": [
    {
     "data": {
      "text/html": [
       "<div>\n",
       "<style scoped>\n",
       "    .dataframe tbody tr th:only-of-type {\n",
       "        vertical-align: middle;\n",
       "    }\n",
       "\n",
       "    .dataframe tbody tr th {\n",
       "        vertical-align: top;\n",
       "    }\n",
       "\n",
       "    .dataframe thead th {\n",
       "        text-align: right;\n",
       "    }\n",
       "</style>\n",
       "<table border=\"1\" class=\"dataframe\">\n",
       "  <thead>\n",
       "    <tr style=\"text-align: right;\">\n",
       "      <th></th>\n",
       "      <th>title</th>\n",
       "      <th>comment_text</th>\n",
       "      <th>likes</th>\n",
       "    </tr>\n",
       "  </thead>\n",
       "  <tbody>\n",
       "    <tr>\n",
       "      <th>0</th>\n",
       "      <td>Cat vs Dog - Best Support Class</td>\n",
       "      <td>The second I read this title in my notificatio...</td>\n",
       "      <td>2355</td>\n",
       "    </tr>\n",
       "    <tr>\n",
       "      <th>1</th>\n",
       "      <td>Cat vs Dog - Best Support Class</td>\n",
       "      <td>talk about the ocean sunfish build</td>\n",
       "      <td>1070</td>\n",
       "    </tr>\n",
       "    <tr>\n",
       "      <th>2</th>\n",
       "      <td>Cat vs Dog - Best Support Class</td>\n",
       "      <td>talk about the ocean sunfish build</td>\n",
       "      <td>1021</td>\n",
       "    </tr>\n",
       "    <tr>\n",
       "      <th>3</th>\n",
       "      <td>Cat vs Dog - Best Support Class</td>\n",
       "      <td>talk about the ocean sunfish build</td>\n",
       "      <td>957</td>\n",
       "    </tr>\n",
       "    <tr>\n",
       "      <th>4</th>\n",
       "      <td>9 Things You Need To Know About Kittens - Simo...</td>\n",
       "      <td>I make interesting cartoons and I need your he...</td>\n",
       "      <td>839</td>\n",
       "    </tr>\n",
       "  </tbody>\n",
       "</table>\n",
       "</div>"
      ],
      "text/plain": [
       "                                               title  \\\n",
       "0                    Cat vs Dog - Best Support Class   \n",
       "1                    Cat vs Dog - Best Support Class   \n",
       "2                    Cat vs Dog - Best Support Class   \n",
       "3                    Cat vs Dog - Best Support Class   \n",
       "4  9 Things You Need To Know About Kittens - Simo...   \n",
       "\n",
       "                                        comment_text  likes  \n",
       "0  The second I read this title in my notificatio...   2355  \n",
       "1                 talk about the ocean sunfish build   1070  \n",
       "2                 talk about the ocean sunfish build   1021  \n",
       "3                 talk about the ocean sunfish build    957  \n",
       "4  I make interesting cartoons and I need your he...    839  "
      ]
     },
     "execution_count": 113,
     "metadata": {},
     "output_type": "execute_result"
    }
   ],
   "source": [
    "cats_comments.limit(5).toPandas()"
   ]
  },
  {
   "cell_type": "code",
   "execution_count": null,
   "id": "15ad02b2",
   "metadata": {},
   "outputs": [],
   "source": []
  }
 ],
 "metadata": {
  "kernelspec": {
   "display_name": "Python 3 (ipykernel)",
   "language": "python",
   "name": "python3"
  },
  "language_info": {
   "codemirror_mode": {
    "name": "ipython",
    "version": 3
   },
   "file_extension": ".py",
   "mimetype": "text/x-python",
   "name": "python",
   "nbconvert_exporter": "python",
   "pygments_lexer": "ipython3",
   "version": "3.11.3"
  }
 },
 "nbformat": 4,
 "nbformat_minor": 5
}

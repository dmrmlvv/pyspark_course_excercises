{
 "cells": [
  {
   "cell_type": "code",
   "execution_count": 1,
   "id": "4b94b2e0-3796-411b-ad82-1b56e7f89e1f",
   "metadata": {},
   "outputs": [],
   "source": [
    "import pyspark\n",
    "from pyspark.sql.functions import *\n",
    "from pyspark.sql.types import *\n",
    "from pyspark.sql import SparkSession\n",
    "\n",
    "spark = (SparkSession.builder.master(\"local\") \n",
    "    .config('spark.sql.autoBroadcastJoinThreshold', -1)  # отключим авто бродкаст\n",
    "    .config('spark.sql.adaptive.enabled', 'false')\n",
    "    .getOrCreate())"
   ]
  },
  {
   "cell_type": "code",
   "execution_count": 5,
   "id": "c5b3cb26",
   "metadata": {},
   "outputs": [
    {
     "data": {
      "text/html": [
       "\n",
       "            <div>\n",
       "                <p><b>SparkSession - in-memory</b></p>\n",
       "                \n",
       "        <div>\n",
       "            <p><b>SparkContext</b></p>\n",
       "\n",
       "            <p><a href=\"http://a7ea3cf479de:4040\">Spark UI</a></p>\n",
       "\n",
       "            <dl>\n",
       "              <dt>Version</dt>\n",
       "                <dd><code>v3.4.0</code></dd>\n",
       "              <dt>Master</dt>\n",
       "                <dd><code>local</code></dd>\n",
       "              <dt>AppName</dt>\n",
       "                <dd><code>pyspark-shell</code></dd>\n",
       "            </dl>\n",
       "        </div>\n",
       "        \n",
       "            </div>\n",
       "        "
      ],
      "text/plain": [
       "<pyspark.sql.session.SparkSession at 0xffff5f8bfd50>"
      ]
     },
     "execution_count": 5,
     "metadata": {},
     "output_type": "execute_result"
    }
   ],
   "source": [
    "spark"
   ]
  },
  {
   "cell_type": "code",
   "execution_count": null,
   "id": "dd41be7c",
   "metadata": {},
   "outputs": [],
   "source": []
  },
  {
   "cell_type": "code",
   "execution_count": 2,
   "id": "32f765e5",
   "metadata": {
    "scrolled": true
   },
   "outputs": [
    {
     "name": "stdout",
     "output_type": "stream",
     "text": [
      "+-----------+--------------------+----------------+-----------+--------------------+-------+------+--------+-------------+--------------------+-----+\n",
      "|   video_id|               title|   channel_title|category_id|                tags|  views| likes|dislikes|comment_total|      thumbnail_link| date|\n",
      "+-----------+--------------------+----------------+-----------+--------------------+-------+------+--------+-------------+--------------------+-----+\n",
      "|XpVt6Z1Gjjo|1 YEAR OF VLOGGIN...|Logan Paul Vlogs|         24|logan paul vlog|l...|4394029|320053|    5931|        46245|https://i.ytimg.c...|13.09|\n",
      "|K4wEI5zhHB0|iPhone X — Introd...|           Apple|         28|Apple|iPhone 10|i...|7860119|185853|   26679|            0|https://i.ytimg.c...|13.09|\n",
      "|cLdxuaxaQwc|         My Response|       PewDiePie|         22|              [none]|5845909|576597|   39774|       170708|https://i.ytimg.c...|13.09|\n",
      "|WYYvHb03Eog|Apple iPhone X fi...|       The Verge|         28|apple iphone x ha...|2642103| 24975|    4542|        12829|https://i.ytimg.c...|13.09|\n",
      "|sjlHnJvXdQs|   iPhone X (parody)|      jacksfilms|         23|jacksfilms|parody...|1168130| 96666|     568|         6666|https://i.ytimg.c...|13.09|\n",
      "+-----------+--------------------+----------------+-----------+--------------------+-------+------+--------+-------------+--------------------+-----+\n",
      "only showing top 5 rows\n",
      "\n"
     ]
    }
   ],
   "source": [
    "videos = spark.read.option('header', 'true').option(\"inferSchema\", \"true\").csv('../datasets/USvideos.csv')\n",
    "videos.show(5)"
   ]
  },
  {
   "cell_type": "code",
   "execution_count": null,
   "id": "9d4d0dbb",
   "metadata": {},
   "outputs": [],
   "source": []
  },
  {
   "cell_type": "code",
   "execution_count": 3,
   "id": "267e4485",
   "metadata": {},
   "outputs": [
    {
     "name": "stdout",
     "output_type": "stream",
     "text": [
      "+-----------+--------------------+-----+-------+\n",
      "|   video_id|        comment_text|likes|replies|\n",
      "+-----------+--------------------+-----+-------+\n",
      "|XpVt6Z1Gjjo|Logan Paul it's y...|    4|      0|\n",
      "|XpVt6Z1Gjjo|I've been followi...|    3|      0|\n",
      "|XpVt6Z1Gjjo|Say hi to Kong an...|    3|      0|\n",
      "|XpVt6Z1Gjjo| MY FAN . attendance|    3|      0|\n",
      "|XpVt6Z1Gjjo|         trending 😉|    3|      0|\n",
      "+-----------+--------------------+-----+-------+\n",
      "only showing top 5 rows\n",
      "\n"
     ]
    }
   ],
   "source": [
    "comments_schema = StructType([ \\\n",
    "    StructField(\"video_id\", StringType(), True), \\\n",
    "    StructField(\"comment_text\", StringType(), True), \\\n",
    "    StructField(\"likes\", IntegerType(), True), \\\n",
    "    StructField(\"replies\", IntegerType(), True)])\n",
    "comments = spark.read.option('header', 'true').option(\"mode\", \"DROPMALFORMED\").schema(comments_schema).csv('../datasets/UScomments.csv')\n",
    "comments.show(5)"
   ]
  },
  {
   "cell_type": "markdown",
   "id": "d7863625",
   "metadata": {},
   "source": [
    "## Task 1"
   ]
  },
  {
   "cell_type": "code",
   "execution_count": 4,
   "id": "345022d1-3183-4012-a959-c4845edaff45",
   "metadata": {},
   "outputs": [],
   "source": [
    "prepared_comm = comments.groupBy(col('video_id')).agg(sum(col('likes')).alias('sum_comm_likes'), sum(col('replies')).alias('sum_comm_replies'))"
   ]
  },
  {
   "cell_type": "code",
   "execution_count": 12,
   "id": "b51d4d51-541a-492e-affc-b580a914a612",
   "metadata": {},
   "outputs": [
    {
     "name": "stdout",
     "output_type": "stream",
     "text": [
      "+-----------+--------------+----------------+\n",
      "|   video_id|sum_comm_likes|sum_comm_replies|\n",
      "+-----------+--------------+----------------+\n",
      "|xPS7bqBePSs|          1037|              28|\n",
      "|dInwVhRtN4E|            63|              13|\n",
      "|rn5Xgak1zzA|            14|               7|\n",
      "|TzyraAp3jaY|          1126|              48|\n",
      "|eHq6ZA6uKOg|           797|             138|\n",
      "|_r5eTelhpmQ|           749|             123|\n",
      "|JkqTeQHFoBY|           558|              98|\n",
      "|Bo-qp-Zu0OY|            71|               8|\n",
      "|K7pQsR8WFSo|           104|              56|\n",
      "|g_ekn1gjBq0|            47|              22|\n",
      "|4yCkkOvIkUI|            36|               4|\n",
      "|7TN09IP5JuI|            34|               0|\n",
      "|RE-far-FvRs|            40|               4|\n",
      "|WQjO1mMCPg4|            61|               5|\n",
      "|aRgTLb5EbiQ|           735|              29|\n",
      "|xNddRhpx5tA|            85|               9|\n",
      "|tUXLO8Dtvq4|            26|               2|\n",
      "|a7Sf_H2cFdM|            35|              11|\n",
      "|mGqR9sgMIyA|            79|              40|\n",
      "|fBTBc2OA9fw|            34|               8|\n",
      "+-----------+--------------+----------------+\n",
      "only showing top 20 rows\n",
      "\n"
     ]
    }
   ],
   "source": [
    "prepared_comm.show()"
   ]
  },
  {
   "cell_type": "code",
   "execution_count": 14,
   "id": "4479f4a4-fafe-46fb-a900-b5c25e725dee",
   "metadata": {},
   "outputs": [],
   "source": [
    "# Бакетинг\n",
    "prepared_comm.write.bucketBy(16, 'video_id').saveAsTable('comm_bucket', format='csv', mode='overwrite')\n",
    "videos.write.bucketBy(16, 'video_id').saveAsTable('videos_bucket', format='csv', mode='overwrite')"
   ]
  },
  {
   "cell_type": "code",
   "execution_count": 30,
   "id": "0ae9bff5-165c-449c-9b0e-c11d834dbe3f",
   "metadata": {},
   "outputs": [
    {
     "name": "stdout",
     "output_type": "stream",
     "text": [
      "CPU times: user 4 µs, sys: 1 µs, total: 5 µs\n",
      "Wall time: 11.2 µs\n"
     ]
    }
   ],
   "source": [
    "%time\n",
    "scored_videos_bucket = (\n",
    "    spark.read.table('videos_bucket').alias('v')\n",
    "    .join(spark.read.table('comm_bucket').alias('c'), ['video_id'])\n",
    "    .withColumn('score', (col('views') + col('likes') + col('comment_total') + col('sum_comm_likes') + col('sum_comm_replies') - col('dislikes')) / 100000)\n",
    ")"
   ]
  },
  {
   "cell_type": "code",
   "execution_count": 27,
   "id": "2efa4a02",
   "metadata": {},
   "outputs": [
    {
     "name": "stdout",
     "output_type": "stream",
     "text": [
      "CPU times: user 6 µs, sys: 2 µs, total: 8 µs\n",
      "Wall time: 17.2 µs\n"
     ]
    }
   ],
   "source": [
    "# без бакетинга\n",
    "%time\n",
    "scored_videos = (\n",
    "    videos.alias('v')\n",
    "    .join(prepared_comm.alias('c'), ['video_id'])\n",
    "    .withColumn('score', (col('views') + col('likes') + col('comment_total') + col('sum_comm_likes') + col('sum_comm_replies') - col('dislikes')) / 100000)\n",
    ")"
   ]
  },
  {
   "cell_type": "markdown",
   "id": "ad09e0b4-29bd-4c89-b1b4-09e5bbaa36dd",
   "metadata": {},
   "source": [
    "На таком маленьком датасете прирост не сильно заметен"
   ]
  },
  {
   "cell_type": "code",
   "execution_count": 11,
   "id": "195b793e",
   "metadata": {},
   "outputs": [
    {
     "data": {
      "text/html": [
       "<div>\n",
       "<style scoped>\n",
       "    .dataframe tbody tr th:only-of-type {\n",
       "        vertical-align: middle;\n",
       "    }\n",
       "\n",
       "    .dataframe tbody tr th {\n",
       "        vertical-align: top;\n",
       "    }\n",
       "\n",
       "    .dataframe thead th {\n",
       "        text-align: right;\n",
       "    }\n",
       "</style>\n",
       "<table border=\"1\" class=\"dataframe\">\n",
       "  <thead>\n",
       "    <tr style=\"text-align: right;\">\n",
       "      <th></th>\n",
       "      <th>video_id</th>\n",
       "      <th>title</th>\n",
       "      <th>channel_title</th>\n",
       "      <th>category_id</th>\n",
       "      <th>tags</th>\n",
       "      <th>views</th>\n",
       "      <th>likes</th>\n",
       "      <th>dislikes</th>\n",
       "      <th>comment_total</th>\n",
       "      <th>thumbnail_link</th>\n",
       "      <th>date</th>\n",
       "      <th>sum_comm_likes</th>\n",
       "      <th>sum_comm_replies</th>\n",
       "      <th>score</th>\n",
       "    </tr>\n",
       "  </thead>\n",
       "  <tbody>\n",
       "    <tr>\n",
       "      <th>0</th>\n",
       "      <td>4yCkkOvIkUI</td>\n",
       "      <td>EXCLUSIVE: Zonnique - Patience [Teaser]</td>\n",
       "      <td>YBF Chic</td>\n",
       "      <td>24</td>\n",
       "      <td>[none]</td>\n",
       "      <td>2306</td>\n",
       "      <td>7</td>\n",
       "      <td>1</td>\n",
       "      <td>0</td>\n",
       "      <td>https://i.ytimg.com/vi/4yCkkOvIkUI/default.jpg</td>\n",
       "      <td>04.10</td>\n",
       "      <td>36</td>\n",
       "      <td>4</td>\n",
       "      <td>0.02352</td>\n",
       "    </tr>\n",
       "    <tr>\n",
       "      <th>1</th>\n",
       "      <td>4yCkkOvIkUI</td>\n",
       "      <td>EXCLUSIVE: Zonnique - Patience [Teaser]</td>\n",
       "      <td>YBF Chic</td>\n",
       "      <td>24</td>\n",
       "      <td>[none]</td>\n",
       "      <td>4937</td>\n",
       "      <td>19</td>\n",
       "      <td>21</td>\n",
       "      <td>12</td>\n",
       "      <td>https://i.ytimg.com/vi/4yCkkOvIkUI/default.jpg</td>\n",
       "      <td>05.10</td>\n",
       "      <td>36</td>\n",
       "      <td>4</td>\n",
       "      <td>0.04987</td>\n",
       "    </tr>\n",
       "    <tr>\n",
       "      <th>2</th>\n",
       "      <td>4yCkkOvIkUI</td>\n",
       "      <td>EXCLUSIVE: Zonnique - Patience [Teaser]</td>\n",
       "      <td>YBF Chic</td>\n",
       "      <td>24</td>\n",
       "      <td>[none]</td>\n",
       "      <td>5662</td>\n",
       "      <td>33</td>\n",
       "      <td>21</td>\n",
       "      <td>13</td>\n",
       "      <td>https://i.ytimg.com/vi/4yCkkOvIkUI/default.jpg</td>\n",
       "      <td>06.10</td>\n",
       "      <td>36</td>\n",
       "      <td>4</td>\n",
       "      <td>0.05727</td>\n",
       "    </tr>\n",
       "    <tr>\n",
       "      <th>3</th>\n",
       "      <td>7TN09IP5JuI</td>\n",
       "      <td>Terry Crews Hallucinates While Eating Spicy Wi...</td>\n",
       "      <td>First We Feast</td>\n",
       "      <td>26</td>\n",
       "      <td>First we feast|fwf|firstwefeast|food|food porn...</td>\n",
       "      <td>2513012</td>\n",
       "      <td>130944</td>\n",
       "      <td>1101</td>\n",
       "      <td>19133</td>\n",
       "      <td>https://i.ytimg.com/vi/7TN09IP5JuI/default.jpg</td>\n",
       "      <td>06.10</td>\n",
       "      <td>34</td>\n",
       "      <td>0</td>\n",
       "      <td>26.62022</td>\n",
       "    </tr>\n",
       "    <tr>\n",
       "      <th>4</th>\n",
       "      <td>7TN09IP5JuI</td>\n",
       "      <td>Terry Crews Hallucinates While Eating Spicy Wi...</td>\n",
       "      <td>First We Feast</td>\n",
       "      <td>26</td>\n",
       "      <td>First we feast|fwf|firstwefeast|food|food porn...</td>\n",
       "      <td>3866789</td>\n",
       "      <td>168343</td>\n",
       "      <td>1750</td>\n",
       "      <td>24438</td>\n",
       "      <td>https://i.ytimg.com/vi/7TN09IP5JuI/default.jpg</td>\n",
       "      <td>07.10</td>\n",
       "      <td>34</td>\n",
       "      <td>0</td>\n",
       "      <td>40.57854</td>\n",
       "    </tr>\n",
       "  </tbody>\n",
       "</table>\n",
       "</div>"
      ],
      "text/plain": [
       "      video_id                                              title  \\\n",
       "0  4yCkkOvIkUI            EXCLUSIVE: Zonnique - Patience [Teaser]   \n",
       "1  4yCkkOvIkUI            EXCLUSIVE: Zonnique - Patience [Teaser]   \n",
       "2  4yCkkOvIkUI            EXCLUSIVE: Zonnique - Patience [Teaser]   \n",
       "3  7TN09IP5JuI  Terry Crews Hallucinates While Eating Spicy Wi...   \n",
       "4  7TN09IP5JuI  Terry Crews Hallucinates While Eating Spicy Wi...   \n",
       "\n",
       "    channel_title  category_id  \\\n",
       "0        YBF Chic           24   \n",
       "1        YBF Chic           24   \n",
       "2        YBF Chic           24   \n",
       "3  First We Feast           26   \n",
       "4  First We Feast           26   \n",
       "\n",
       "                                                tags    views   likes  \\\n",
       "0                                             [none]     2306       7   \n",
       "1                                             [none]     4937      19   \n",
       "2                                             [none]     5662      33   \n",
       "3  First we feast|fwf|firstwefeast|food|food porn...  2513012  130944   \n",
       "4  First we feast|fwf|firstwefeast|food|food porn...  3866789  168343   \n",
       "\n",
       "   dislikes  comment_total                                  thumbnail_link  \\\n",
       "0         1              0  https://i.ytimg.com/vi/4yCkkOvIkUI/default.jpg   \n",
       "1        21             12  https://i.ytimg.com/vi/4yCkkOvIkUI/default.jpg   \n",
       "2        21             13  https://i.ytimg.com/vi/4yCkkOvIkUI/default.jpg   \n",
       "3      1101          19133  https://i.ytimg.com/vi/7TN09IP5JuI/default.jpg   \n",
       "4      1750          24438  https://i.ytimg.com/vi/7TN09IP5JuI/default.jpg   \n",
       "\n",
       "    date  sum_comm_likes  sum_comm_replies     score  \n",
       "0  04.10              36                 4   0.02352  \n",
       "1  05.10              36                 4   0.04987  \n",
       "2  06.10              36                 4   0.05727  \n",
       "3  06.10              34                 0  26.62022  \n",
       "4  07.10              34                 0  40.57854  "
      ]
     },
     "execution_count": 11,
     "metadata": {},
     "output_type": "execute_result"
    }
   ],
   "source": [
    "scored_videos.limit(5).toPandas()"
   ]
  },
  {
   "cell_type": "markdown",
   "id": "40a99d42",
   "metadata": {},
   "source": [
    "## Task 2"
   ]
  },
  {
   "cell_type": "code",
   "execution_count": 18,
   "id": "a898cbbb",
   "metadata": {},
   "outputs": [],
   "source": [
    "import json\n",
    "import pandas as pd\n",
    "from pyspark.sql.types import StringType"
   ]
  },
  {
   "cell_type": "code",
   "execution_count": 27,
   "id": "0c182ec1",
   "metadata": {},
   "outputs": [],
   "source": [
    "with open(\"../datasets/US_category_id.json\", \"r\") as write_file:\n",
    "    cat = json.load(write_file)\n",
    "\n",
    "items = cat.get('items')\n",
    "\n",
    "category_dict = {}\n",
    "for i in items:\n",
    "    category_dict[i.get('id')] = i.get('snippet').get('title')\n",
    "    \n",
    "data_list = set((k, v) for k, v in category_dict.items())"
   ]
  },
  {
   "cell_type": "code",
   "execution_count": null,
   "id": "8f0ef51f-71f7-4c58-aa90-a3a5036bf2da",
   "metadata": {},
   "outputs": [],
   "source": []
  },
  {
   "cell_type": "code",
   "execution_count": 30,
   "id": "765f1e66-25a8-4bef-809d-dc4db6960531",
   "metadata": {},
   "outputs": [
    {
     "data": {
      "text/plain": [
       "{'kind': 'youtube#videoCategoryListResponse',\n",
       " 'etag': '\"m2yskBQFythfE4irbTIeOgYYfBU/S730Ilt-Fi-emsQJvJAAShlR6hM\"',\n",
       " 'items': [{'kind': 'youtube#videoCategory',\n",
       "   'etag': '\"m2yskBQFythfE4irbTIeOgYYfBU/Xy1mB4_yLrHy_BmKmPBggty2mZQ\"',\n",
       "   'id': '1',\n",
       "   'snippet': {'channelId': 'UCBR8-60-B28hp2BmDPdntcQ',\n",
       "    'title': 'Film & Animation',\n",
       "    'assignable': True}},\n",
       "  {'kind': 'youtube#videoCategory',\n",
       "   'etag': '\"m2yskBQFythfE4irbTIeOgYYfBU/UZ1oLIIz2dxIhO45ZTFR3a3NyTA\"',\n",
       "   'id': '2',\n",
       "   'snippet': {'channelId': 'UCBR8-60-B28hp2BmDPdntcQ',\n",
       "    'title': 'Autos & Vehicles',\n",
       "    'assignable': True}},\n",
       "  {'kind': 'youtube#videoCategory',\n",
       "   'etag': '\"m2yskBQFythfE4irbTIeOgYYfBU/nqRIq97-xe5XRZTxbknKFVe5Lmg\"',\n",
       "   'id': '10',\n",
       "   'snippet': {'channelId': 'UCBR8-60-B28hp2BmDPdntcQ',\n",
       "    'title': 'Music',\n",
       "    'assignable': True}},\n",
       "  {'kind': 'youtube#videoCategory',\n",
       "   'etag': '\"m2yskBQFythfE4irbTIeOgYYfBU/HwXKamM1Q20q9BN-oBJavSGkfDI\"',\n",
       "   'id': '15',\n",
       "   'snippet': {'channelId': 'UCBR8-60-B28hp2BmDPdntcQ',\n",
       "    'title': 'Pets & Animals',\n",
       "    'assignable': True}},\n",
       "  {'kind': 'youtube#videoCategory',\n",
       "   'etag': '\"m2yskBQFythfE4irbTIeOgYYfBU/9GQMSRjrZdHeb1OEM1XVQ9zbGec\"',\n",
       "   'id': '17',\n",
       "   'snippet': {'channelId': 'UCBR8-60-B28hp2BmDPdntcQ',\n",
       "    'title': 'Sports',\n",
       "    'assignable': True}},\n",
       "  {'kind': 'youtube#videoCategory',\n",
       "   'etag': '\"m2yskBQFythfE4irbTIeOgYYfBU/FJwVpGCVZ1yiJrqZbpqe68Sy_OE\"',\n",
       "   'id': '18',\n",
       "   'snippet': {'channelId': 'UCBR8-60-B28hp2BmDPdntcQ',\n",
       "    'title': 'Short Movies',\n",
       "    'assignable': False}},\n",
       "  {'kind': 'youtube#videoCategory',\n",
       "   'etag': '\"m2yskBQFythfE4irbTIeOgYYfBU/M-3iD9dwK7YJCafRf_DkLN8CouA\"',\n",
       "   'id': '19',\n",
       "   'snippet': {'channelId': 'UCBR8-60-B28hp2BmDPdntcQ',\n",
       "    'title': 'Travel & Events',\n",
       "    'assignable': True}},\n",
       "  {'kind': 'youtube#videoCategory',\n",
       "   'etag': '\"m2yskBQFythfE4irbTIeOgYYfBU/WmA0qYEfjWsAoyJFSw2zinhn2wM\"',\n",
       "   'id': '20',\n",
       "   'snippet': {'channelId': 'UCBR8-60-B28hp2BmDPdntcQ',\n",
       "    'title': 'Gaming',\n",
       "    'assignable': True}},\n",
       "  {'kind': 'youtube#videoCategory',\n",
       "   'etag': '\"m2yskBQFythfE4irbTIeOgYYfBU/EapFaGYG7K0StIXVf8aba249tdM\"',\n",
       "   'id': '21',\n",
       "   'snippet': {'channelId': 'UCBR8-60-B28hp2BmDPdntcQ',\n",
       "    'title': 'Videoblogging',\n",
       "    'assignable': False}},\n",
       "  {'kind': 'youtube#videoCategory',\n",
       "   'etag': '\"m2yskBQFythfE4irbTIeOgYYfBU/xId8RX7vRN8rqkbYZbNIytUQDRo\"',\n",
       "   'id': '22',\n",
       "   'snippet': {'channelId': 'UCBR8-60-B28hp2BmDPdntcQ',\n",
       "    'title': 'People & Blogs',\n",
       "    'assignable': True}},\n",
       "  {'kind': 'youtube#videoCategory',\n",
       "   'etag': '\"m2yskBQFythfE4irbTIeOgYYfBU/G9LHzQmx44rX2S5yaga_Aqtwz8M\"',\n",
       "   'id': '23',\n",
       "   'snippet': {'channelId': 'UCBR8-60-B28hp2BmDPdntcQ',\n",
       "    'title': 'Comedy',\n",
       "    'assignable': True}},\n",
       "  {'kind': 'youtube#videoCategory',\n",
       "   'etag': '\"m2yskBQFythfE4irbTIeOgYYfBU/UVB9oxX2Bvqa_w_y3vXSLVK5E_s\"',\n",
       "   'id': '24',\n",
       "   'snippet': {'channelId': 'UCBR8-60-B28hp2BmDPdntcQ',\n",
       "    'title': 'Entertainment',\n",
       "    'assignable': True}},\n",
       "  {'kind': 'youtube#videoCategory',\n",
       "   'etag': '\"m2yskBQFythfE4irbTIeOgYYfBU/QiLK0ZIrFoORdk_g2l_XR_ECjDc\"',\n",
       "   'id': '25',\n",
       "   'snippet': {'channelId': 'UCBR8-60-B28hp2BmDPdntcQ',\n",
       "    'title': 'News & Politics',\n",
       "    'assignable': True}},\n",
       "  {'kind': 'youtube#videoCategory',\n",
       "   'etag': '\"m2yskBQFythfE4irbTIeOgYYfBU/r6Ck6Z0_L0rG37VJQR200SGNA_w\"',\n",
       "   'id': '26',\n",
       "   'snippet': {'channelId': 'UCBR8-60-B28hp2BmDPdntcQ',\n",
       "    'title': 'Howto & Style',\n",
       "    'assignable': True}},\n",
       "  {'kind': 'youtube#videoCategory',\n",
       "   'etag': '\"m2yskBQFythfE4irbTIeOgYYfBU/EoYkczo9I3RCf96RveKTOgOPkUM\"',\n",
       "   'id': '27',\n",
       "   'snippet': {'channelId': 'UCBR8-60-B28hp2BmDPdntcQ',\n",
       "    'title': 'Education',\n",
       "    'assignable': True}},\n",
       "  {'kind': 'youtube#videoCategory',\n",
       "   'etag': '\"m2yskBQFythfE4irbTIeOgYYfBU/w5HjcTD82G_XA3xBctS30zS-JpQ\"',\n",
       "   'id': '28',\n",
       "   'snippet': {'channelId': 'UCBR8-60-B28hp2BmDPdntcQ',\n",
       "    'title': 'Science & Technology',\n",
       "    'assignable': True}},\n",
       "  {'kind': 'youtube#videoCategory',\n",
       "   'etag': '\"m2yskBQFythfE4irbTIeOgYYfBU/SalkJoBWq_smSEqiAx_qyri6Wa8\"',\n",
       "   'id': '29',\n",
       "   'snippet': {'channelId': 'UCBR8-60-B28hp2BmDPdntcQ',\n",
       "    'title': 'Nonprofits & Activism',\n",
       "    'assignable': True}},\n",
       "  {'kind': 'youtube#videoCategory',\n",
       "   'etag': '\"m2yskBQFythfE4irbTIeOgYYfBU/lL7uWDr_071CHxifjYG1tJrp4Uo\"',\n",
       "   'id': '30',\n",
       "   'snippet': {'channelId': 'UCBR8-60-B28hp2BmDPdntcQ',\n",
       "    'title': 'Movies',\n",
       "    'assignable': False}},\n",
       "  {'kind': 'youtube#videoCategory',\n",
       "   'etag': '\"m2yskBQFythfE4irbTIeOgYYfBU/WnuVfjO-PyFLO7NTRQIbrGE62nk\"',\n",
       "   'id': '31',\n",
       "   'snippet': {'channelId': 'UCBR8-60-B28hp2BmDPdntcQ',\n",
       "    'title': 'Anime/Animation',\n",
       "    'assignable': False}},\n",
       "  {'kind': 'youtube#videoCategory',\n",
       "   'etag': '\"m2yskBQFythfE4irbTIeOgYYfBU/ctpH2hGA_UZ3volJT_FTlOg9M00\"',\n",
       "   'id': '32',\n",
       "   'snippet': {'channelId': 'UCBR8-60-B28hp2BmDPdntcQ',\n",
       "    'title': 'Action/Adventure',\n",
       "    'assignable': False}},\n",
       "  {'kind': 'youtube#videoCategory',\n",
       "   'etag': '\"m2yskBQFythfE4irbTIeOgYYfBU/L0kR3-g1BAo5UD1PLVbQ7LkkDtQ\"',\n",
       "   'id': '33',\n",
       "   'snippet': {'channelId': 'UCBR8-60-B28hp2BmDPdntcQ',\n",
       "    'title': 'Classics',\n",
       "    'assignable': False}},\n",
       "  {'kind': 'youtube#videoCategory',\n",
       "   'etag': '\"m2yskBQFythfE4irbTIeOgYYfBU/pUZOAC_s9sfiwar639qr_wAB-aI\"',\n",
       "   'id': '34',\n",
       "   'snippet': {'channelId': 'UCBR8-60-B28hp2BmDPdntcQ',\n",
       "    'title': 'Comedy',\n",
       "    'assignable': False}},\n",
       "  {'kind': 'youtube#videoCategory',\n",
       "   'etag': '\"m2yskBQFythfE4irbTIeOgYYfBU/Xb5JLhtyNRN3AQq021Ds-OV50Jk\"',\n",
       "   'id': '35',\n",
       "   'snippet': {'channelId': 'UCBR8-60-B28hp2BmDPdntcQ',\n",
       "    'title': 'Documentary',\n",
       "    'assignable': False}},\n",
       "  {'kind': 'youtube#videoCategory',\n",
       "   'etag': '\"m2yskBQFythfE4irbTIeOgYYfBU/u8WXzF4HIhtEi805__sqjuA4lEk\"',\n",
       "   'id': '36',\n",
       "   'snippet': {'channelId': 'UCBR8-60-B28hp2BmDPdntcQ',\n",
       "    'title': 'Drama',\n",
       "    'assignable': False}},\n",
       "  {'kind': 'youtube#videoCategory',\n",
       "   'etag': '\"m2yskBQFythfE4irbTIeOgYYfBU/D04PP4Gr7wc4IV_O9G66Z4A8KWQ\"',\n",
       "   'id': '37',\n",
       "   'snippet': {'channelId': 'UCBR8-60-B28hp2BmDPdntcQ',\n",
       "    'title': 'Family',\n",
       "    'assignable': False}},\n",
       "  {'kind': 'youtube#videoCategory',\n",
       "   'etag': '\"m2yskBQFythfE4irbTIeOgYYfBU/i5-_AceGXQCEEMWU0V8CcQm_vLQ\"',\n",
       "   'id': '38',\n",
       "   'snippet': {'channelId': 'UCBR8-60-B28hp2BmDPdntcQ',\n",
       "    'title': 'Foreign',\n",
       "    'assignable': False}},\n",
       "  {'kind': 'youtube#videoCategory',\n",
       "   'etag': '\"m2yskBQFythfE4irbTIeOgYYfBU/rtlxd0zOixA9QHdIZB26-St5qgQ\"',\n",
       "   'id': '39',\n",
       "   'snippet': {'channelId': 'UCBR8-60-B28hp2BmDPdntcQ',\n",
       "    'title': 'Horror',\n",
       "    'assignable': False}},\n",
       "  {'kind': 'youtube#videoCategory',\n",
       "   'etag': '\"m2yskBQFythfE4irbTIeOgYYfBU/N1TrDFLRppxZgBowCJfJCvh0Dpg\"',\n",
       "   'id': '40',\n",
       "   'snippet': {'channelId': 'UCBR8-60-B28hp2BmDPdntcQ',\n",
       "    'title': 'Sci-Fi/Fantasy',\n",
       "    'assignable': False}},\n",
       "  {'kind': 'youtube#videoCategory',\n",
       "   'etag': '\"m2yskBQFythfE4irbTIeOgYYfBU/7UMGi6zRySqXopr_rv4sZq6Za2E\"',\n",
       "   'id': '41',\n",
       "   'snippet': {'channelId': 'UCBR8-60-B28hp2BmDPdntcQ',\n",
       "    'title': 'Thriller',\n",
       "    'assignable': False}},\n",
       "  {'kind': 'youtube#videoCategory',\n",
       "   'etag': '\"m2yskBQFythfE4irbTIeOgYYfBU/RScXhi324h8usyIetreAVb-uKeM\"',\n",
       "   'id': '42',\n",
       "   'snippet': {'channelId': 'UCBR8-60-B28hp2BmDPdntcQ',\n",
       "    'title': 'Shorts',\n",
       "    'assignable': False}},\n",
       "  {'kind': 'youtube#videoCategory',\n",
       "   'etag': '\"m2yskBQFythfE4irbTIeOgYYfBU/0n9MJVCDLpA8q7aiGVrFsuFsd0A\"',\n",
       "   'id': '43',\n",
       "   'snippet': {'channelId': 'UCBR8-60-B28hp2BmDPdntcQ',\n",
       "    'title': 'Shows',\n",
       "    'assignable': False}},\n",
       "  {'kind': 'youtube#videoCategory',\n",
       "   'etag': '\"m2yskBQFythfE4irbTIeOgYYfBU/x5NxSf5fz8hn4loSN4rvhwzD_pY\"',\n",
       "   'id': '44',\n",
       "   'snippet': {'channelId': 'UCBR8-60-B28hp2BmDPdntcQ',\n",
       "    'title': 'Trailers',\n",
       "    'assignable': False}}]}"
      ]
     },
     "execution_count": 30,
     "metadata": {},
     "output_type": "execute_result"
    }
   ],
   "source": [
    "cat"
   ]
  },
  {
   "cell_type": "code",
   "execution_count": 28,
   "id": "93c0e779-df5c-4b77-bf8e-d885d1ece1de",
   "metadata": {},
   "outputs": [
    {
     "data": {
      "text/plain": [
       "{('1', 'Film & Animation'),\n",
       " ('10', 'Music'),\n",
       " ('15', 'Pets & Animals'),\n",
       " ('17', 'Sports'),\n",
       " ('18', 'Short Movies'),\n",
       " ('19', 'Travel & Events'),\n",
       " ('2', 'Autos & Vehicles'),\n",
       " ('20', 'Gaming'),\n",
       " ('21', 'Videoblogging'),\n",
       " ('22', 'People & Blogs'),\n",
       " ('23', 'Comedy'),\n",
       " ('24', 'Entertainment'),\n",
       " ('25', 'News & Politics'),\n",
       " ('26', 'Howto & Style'),\n",
       " ('27', 'Education'),\n",
       " ('28', 'Science & Technology'),\n",
       " ('29', 'Nonprofits & Activism'),\n",
       " ('30', 'Movies'),\n",
       " ('31', 'Anime/Animation'),\n",
       " ('32', 'Action/Adventure'),\n",
       " ('33', 'Classics'),\n",
       " ('34', 'Comedy'),\n",
       " ('35', 'Documentary'),\n",
       " ('36', 'Drama'),\n",
       " ('37', 'Family'),\n",
       " ('38', 'Foreign'),\n",
       " ('39', 'Horror'),\n",
       " ('40', 'Sci-Fi/Fantasy'),\n",
       " ('41', 'Thriller'),\n",
       " ('42', 'Shorts'),\n",
       " ('43', 'Shows'),\n",
       " ('44', 'Trailers')}"
      ]
     },
     "execution_count": 28,
     "metadata": {},
     "output_type": "execute_result"
    }
   ],
   "source": [
    "data_list"
   ]
  },
  {
   "cell_type": "code",
   "execution_count": 8,
   "id": "0a3cdcae",
   "metadata": {},
   "outputs": [],
   "source": [
    "category_df = spark.createDataFrame(data_list, ['category_id', 'title_name'])"
   ]
  },
  {
   "cell_type": "code",
   "execution_count": 9,
   "id": "6d03ce70",
   "metadata": {},
   "outputs": [
    {
     "data": {
      "text/html": [
       "<div>\n",
       "<style scoped>\n",
       "    .dataframe tbody tr th:only-of-type {\n",
       "        vertical-align: middle;\n",
       "    }\n",
       "\n",
       "    .dataframe tbody tr th {\n",
       "        vertical-align: top;\n",
       "    }\n",
       "\n",
       "    .dataframe thead th {\n",
       "        text-align: right;\n",
       "    }\n",
       "</style>\n",
       "<table border=\"1\" class=\"dataframe\">\n",
       "  <thead>\n",
       "    <tr style=\"text-align: right;\">\n",
       "      <th></th>\n",
       "      <th>category_id</th>\n",
       "      <th>title_name</th>\n",
       "    </tr>\n",
       "  </thead>\n",
       "  <tbody>\n",
       "    <tr>\n",
       "      <th>0</th>\n",
       "      <td>1</td>\n",
       "      <td>Film &amp; Animation</td>\n",
       "    </tr>\n",
       "    <tr>\n",
       "      <th>1</th>\n",
       "      <td>2</td>\n",
       "      <td>Autos &amp; Vehicles</td>\n",
       "    </tr>\n",
       "    <tr>\n",
       "      <th>2</th>\n",
       "      <td>10</td>\n",
       "      <td>Music</td>\n",
       "    </tr>\n",
       "    <tr>\n",
       "      <th>3</th>\n",
       "      <td>15</td>\n",
       "      <td>Pets &amp; Animals</td>\n",
       "    </tr>\n",
       "    <tr>\n",
       "      <th>4</th>\n",
       "      <td>17</td>\n",
       "      <td>Sports</td>\n",
       "    </tr>\n",
       "  </tbody>\n",
       "</table>\n",
       "</div>"
      ],
      "text/plain": [
       "  category_id        title_name\n",
       "0           1  Film & Animation\n",
       "1           2  Autos & Vehicles\n",
       "2          10             Music\n",
       "3          15    Pets & Animals\n",
       "4          17            Sports"
      ]
     },
     "execution_count": 9,
     "metadata": {},
     "output_type": "execute_result"
    }
   ],
   "source": [
    "category_df.limit(5).toPandas()"
   ]
  },
  {
   "cell_type": "code",
   "execution_count": 16,
   "id": "2bd3b81b",
   "metadata": {},
   "outputs": [],
   "source": [
    "from pyspark.sql.functions import pandas_udf, udf, PandasUDFType\n",
    "import numpy as np"
   ]
  },
  {
   "cell_type": "code",
   "execution_count": 100,
   "id": "ae1c4e17",
   "metadata": {},
   "outputs": [],
   "source": []
  },
  {
   "cell_type": "code",
   "execution_count": 17,
   "id": "9704540a",
   "metadata": {},
   "outputs": [],
   "source": [
    "# датасет маленький, поэтому лучше использовать бродкаст джоин\n",
    "categories_score = scored_videos.join(category_df.hint('broadcast'), ['category_id'])"
   ]
  },
  {
   "cell_type": "code",
   "execution_count": 18,
   "id": "87ac2ac0",
   "metadata": {},
   "outputs": [
    {
     "name": "stderr",
     "output_type": "stream",
     "text": [
      "/usr/local/spark/python/pyspark/sql/pandas/functions.py:399: UserWarning: In Python 3.6+ and Spark 3.0+, it is preferred to specify type hints for pandas UDF instead of specifying pandas UDF type which will be deprecated in the future releases. See SPARK-28264 for more details.\n",
      "  warnings.warn(\n"
     ]
    }
   ],
   "source": [
    "@pandas_udf(FloatType(), PandasUDFType.GROUPED_AGG)\n",
    "def median__pandas_udf(scores):\n",
    "    median = np.median(scores)\n",
    "    return median"
   ]
  },
  {
   "cell_type": "code",
   "execution_count": 19,
   "id": "a04c6355",
   "metadata": {},
   "outputs": [
    {
     "name": "stdout",
     "output_type": "stream",
     "text": [
      "CPU times: user 4 µs, sys: 2 µs, total: 6 µs\n",
      "Wall time: 47.4 µs\n"
     ]
    }
   ],
   "source": [
    "%time\n",
    "medians_df = (\n",
    "    categories_score\n",
    "    .groupBy(col('title_name'))\n",
    "    .agg(median__pandas_udf(col('score')))\n",
    ")"
   ]
  },
  {
   "cell_type": "code",
   "execution_count": 20,
   "id": "c0c2f5d9",
   "metadata": {},
   "outputs": [
    {
     "data": {
      "text/html": [
       "<div>\n",
       "<style scoped>\n",
       "    .dataframe tbody tr th:only-of-type {\n",
       "        vertical-align: middle;\n",
       "    }\n",
       "\n",
       "    .dataframe tbody tr th {\n",
       "        vertical-align: top;\n",
       "    }\n",
       "\n",
       "    .dataframe thead th {\n",
       "        text-align: right;\n",
       "    }\n",
       "</style>\n",
       "<table border=\"1\" class=\"dataframe\">\n",
       "  <thead>\n",
       "    <tr style=\"text-align: right;\">\n",
       "      <th></th>\n",
       "      <th>title_name</th>\n",
       "      <th>median__pandas_udf(score)</th>\n",
       "    </tr>\n",
       "  </thead>\n",
       "  <tbody>\n",
       "    <tr>\n",
       "      <th>0</th>\n",
       "      <td>Shows</td>\n",
       "      <td>0.086335</td>\n",
       "    </tr>\n",
       "    <tr>\n",
       "      <th>1</th>\n",
       "      <td>Education</td>\n",
       "      <td>2.526625</td>\n",
       "    </tr>\n",
       "    <tr>\n",
       "      <th>2</th>\n",
       "      <td>Gaming</td>\n",
       "      <td>2.779255</td>\n",
       "    </tr>\n",
       "  </tbody>\n",
       "</table>\n",
       "</div>"
      ],
      "text/plain": [
       "  title_name  median__pandas_udf(score)\n",
       "0      Shows                   0.086335\n",
       "1  Education                   2.526625\n",
       "2     Gaming                   2.779255"
      ]
     },
     "execution_count": 20,
     "metadata": {},
     "output_type": "execute_result"
    }
   ],
   "source": [
    "medians_df.limit(3).toPandas()"
   ]
  },
  {
   "cell_type": "markdown",
   "id": "1a24b47a",
   "metadata": {},
   "source": [
    "## Task 3"
   ]
  },
  {
   "cell_type": "markdown",
   "id": "a2b28fbe",
   "metadata": {},
   "source": [
    "### Тест обычной udf"
   ]
  },
  {
   "cell_type": "code",
   "execution_count": 24,
   "id": "d5af3bc7",
   "metadata": {},
   "outputs": [],
   "source": [
    "@udf('array<string>')\n",
    "def split_tags_udf(tags):\n",
    "    return tags.split('|')"
   ]
  },
  {
   "cell_type": "code",
   "execution_count": 25,
   "id": "797bcb6d",
   "metadata": {},
   "outputs": [
    {
     "name": "stdout",
     "output_type": "stream",
     "text": [
      "CPU times: user 8 µs, sys: 0 ns, total: 8 µs\n",
      "Wall time: 43.9 µs\n"
     ]
    }
   ],
   "source": [
    "%time\n",
    "popular_tags = (\n",
    "    scored_videos\n",
    "    .withColumn('tags', explode(split_tags_udf('tags')))\n",
    "    .groupBy('tags').agg(count('video_id').alias('cnt_tags'))\n",
    ")"
   ]
  },
  {
   "cell_type": "code",
   "execution_count": 26,
   "id": "143103fa",
   "metadata": {},
   "outputs": [
    {
     "data": {
      "text/html": [
       "<div>\n",
       "<style scoped>\n",
       "    .dataframe tbody tr th:only-of-type {\n",
       "        vertical-align: middle;\n",
       "    }\n",
       "\n",
       "    .dataframe tbody tr th {\n",
       "        vertical-align: top;\n",
       "    }\n",
       "\n",
       "    .dataframe thead th {\n",
       "        text-align: right;\n",
       "    }\n",
       "</style>\n",
       "<table border=\"1\" class=\"dataframe\">\n",
       "  <thead>\n",
       "    <tr style=\"text-align: right;\">\n",
       "      <th></th>\n",
       "      <th>tags</th>\n",
       "      <th>cnt_tags</th>\n",
       "    </tr>\n",
       "  </thead>\n",
       "  <tbody>\n",
       "    <tr>\n",
       "      <th>0</th>\n",
       "      <td>funny</td>\n",
       "      <td>722</td>\n",
       "    </tr>\n",
       "    <tr>\n",
       "      <th>1</th>\n",
       "      <td>comedy</td>\n",
       "      <td>572</td>\n",
       "    </tr>\n",
       "    <tr>\n",
       "      <th>2</th>\n",
       "      <td>[none]</td>\n",
       "      <td>491</td>\n",
       "    </tr>\n",
       "  </tbody>\n",
       "</table>\n",
       "</div>"
      ],
      "text/plain": [
       "     tags  cnt_tags\n",
       "0   funny       722\n",
       "1  comedy       572\n",
       "2  [none]       491"
      ]
     },
     "execution_count": 26,
     "metadata": {},
     "output_type": "execute_result"
    }
   ],
   "source": [
    "popular_tags.orderBy(desc('cnt_tags')).limit(3).toPandas()"
   ]
  },
  {
   "cell_type": "markdown",
   "id": "83191678",
   "metadata": {},
   "source": [
    "### Тест pandas_udf"
   ]
  },
  {
   "cell_type": "code",
   "execution_count": 44,
   "id": "35d48fb4",
   "metadata": {},
   "outputs": [
    {
     "name": "stderr",
     "output_type": "stream",
     "text": [
      "/usr/local/spark/python/pyspark/sql/pandas/functions.py:399: UserWarning: In Python 3.6+ and Spark 3.0+, it is preferred to specify type hints for pandas UDF instead of specifying pandas UDF type which will be deprecated in the future releases. See SPARK-28264 for more details.\n",
      "  warnings.warn(\n"
     ]
    }
   ],
   "source": [
    "@pandas_udf('array<string>', PandasUDFType.SCALAR)\n",
    "def split_tags_pandas_udf(tags):\n",
    "    return tags.str.split('|')"
   ]
  },
  {
   "cell_type": "code",
   "execution_count": 28,
   "id": "2624e734",
   "metadata": {},
   "outputs": [
    {
     "name": "stdout",
     "output_type": "stream",
     "text": [
      "CPU times: user 18 µs, sys: 4 µs, total: 22 µs\n",
      "Wall time: 38.4 µs\n"
     ]
    }
   ],
   "source": [
    "%time\n",
    "popular_tags = (\n",
    "    scored_videos\n",
    "    .withColumn('tags', explode(split_tags_pandas_udf('tags')))\n",
    "    .groupBy('tags').agg(count('video_id').alias('cnt_tags'))\n",
    ")"
   ]
  },
  {
   "cell_type": "markdown",
   "id": "4da64dc6",
   "metadata": {},
   "source": [
    "### Тест scala udf"
   ]
  },
  {
   "cell_type": "code",
   "execution_count": 29,
   "id": "fc021c39",
   "metadata": {},
   "outputs": [],
   "source": [
    "from pyspark.sql.column import Column\n",
    "from pyspark.sql.column import _to_java_column \n",
    "from pyspark.sql.column import _to_seq\n",
    "\n",
    "sc = spark.sparkContext\n",
    "\n",
    "def udf_split_tags_scala_wrapper(tags):\n",
    "    split_tags_scala = sc._jvm.CustomUDFs.splitTagsUDF()\n",
    "    return Column(split_tags_scala.apply(_to_seq(sc, [tags], _to_java_column)))"
   ]
  },
  {
   "cell_type": "code",
   "execution_count": 30,
   "id": "3b675e25",
   "metadata": {},
   "outputs": [
    {
     "name": "stdout",
     "output_type": "stream",
     "text": [
      "CPU times: user 7 µs, sys: 0 ns, total: 7 µs\n",
      "Wall time: 13.6 µs\n"
     ]
    }
   ],
   "source": [
    "%time\n",
    "popular_tags = (\n",
    "    scored_videos\n",
    "    .withColumn('tags', explode(udf_split_tags_scala_wrapper('tags')))\n",
    "    .groupBy('tags').agg(count('video_id').alias('cnt_tags'))\n",
    ")"
   ]
  },
  {
   "cell_type": "code",
   "execution_count": 32,
   "id": "769c1985",
   "metadata": {},
   "outputs": [
    {
     "data": {
      "text/html": [
       "<div>\n",
       "<style scoped>\n",
       "    .dataframe tbody tr th:only-of-type {\n",
       "        vertical-align: middle;\n",
       "    }\n",
       "\n",
       "    .dataframe tbody tr th {\n",
       "        vertical-align: top;\n",
       "    }\n",
       "\n",
       "    .dataframe thead th {\n",
       "        text-align: right;\n",
       "    }\n",
       "</style>\n",
       "<table border=\"1\" class=\"dataframe\">\n",
       "  <thead>\n",
       "    <tr style=\"text-align: right;\">\n",
       "      <th></th>\n",
       "      <th>tags</th>\n",
       "      <th>cnt_tags</th>\n",
       "    </tr>\n",
       "  </thead>\n",
       "  <tbody>\n",
       "    <tr>\n",
       "      <th>0</th>\n",
       "      <td>funny</td>\n",
       "      <td>722</td>\n",
       "    </tr>\n",
       "    <tr>\n",
       "      <th>1</th>\n",
       "      <td>comedy</td>\n",
       "      <td>572</td>\n",
       "    </tr>\n",
       "    <tr>\n",
       "      <th>2</th>\n",
       "      <td>[none]</td>\n",
       "      <td>491</td>\n",
       "    </tr>\n",
       "  </tbody>\n",
       "</table>\n",
       "</div>"
      ],
      "text/plain": [
       "     tags  cnt_tags\n",
       "0   funny       722\n",
       "1  comedy       572\n",
       "2  [none]       491"
      ]
     },
     "execution_count": 32,
     "metadata": {},
     "output_type": "execute_result"
    }
   ],
   "source": [
    "popular_tags.orderBy(desc('cnt_tags')).limit(3).toPandas()"
   ]
  },
  {
   "cell_type": "markdown",
   "id": "2e0acfd4",
   "metadata": {},
   "source": [
    "### Вывод\n",
    "Очевидно самая быстрая реализация udf в Scala, а самая медленная у обычной питоновской udf"
   ]
  },
  {
   "cell_type": "markdown",
   "id": "77c51c75",
   "metadata": {},
   "source": [
    "## Task 4"
   ]
  },
  {
   "cell_type": "code",
   "execution_count": 84,
   "id": "193673fe",
   "metadata": {},
   "outputs": [],
   "source": [
    "cats_df = videos.withColumn('tags', explode(split_tags_pandas_udf('tags'))).filter(col('tags') == 'cat')"
   ]
  },
  {
   "cell_type": "markdown",
   "id": "fbf0d73f",
   "metadata": {},
   "source": [
    "Так как мы уменьшили размер выборки, можно попробовать использовать бродкаст джоин"
   ]
  },
  {
   "cell_type": "code",
   "execution_count": 110,
   "id": "3ce2b566",
   "metadata": {
    "scrolled": true
   },
   "outputs": [
    {
     "name": "stdout",
     "output_type": "stream",
     "text": [
      "CPU times: user 6 µs, sys: 2 µs, total: 8 µs\n",
      "Wall time: 15 µs\n"
     ]
    }
   ],
   "source": [
    "%time\n",
    "cats_comments = (\n",
    "    cats_df\n",
    "    .join(comments.hint('broadcast').alias('c'), ['video_id'])\n",
    "    .select(col('title'), col('comment_text'), col('c.likes'), )\n",
    "    .distinct()\n",
    "    .orderBy(desc('likes'))\n",
    ")"
   ]
  },
  {
   "cell_type": "markdown",
   "id": "9e8fc943",
   "metadata": {},
   "source": [
    "И проверим без бродкаста "
   ]
  },
  {
   "cell_type": "code",
   "execution_count": 112,
   "id": "512b650b",
   "metadata": {},
   "outputs": [
    {
     "name": "stdout",
     "output_type": "stream",
     "text": [
      "CPU times: user 10 µs, sys: 0 ns, total: 10 µs\n",
      "Wall time: 15.7 µs\n"
     ]
    }
   ],
   "source": [
    "%time\n",
    "cats_comments = (\n",
    "    cats_df\n",
    "    .join(comments.alias('c'), ['video_id'])\n",
    "    .select(col('title'), col('comment_text'), col('c.likes'), )\n",
    "    .distinct()\n",
    "    .orderBy(desc('likes'))\n",
    ")"
   ]
  },
  {
   "cell_type": "markdown",
   "id": "fbd48583",
   "metadata": {},
   "source": [
    "Прирост на уровне погрешности"
   ]
  },
  {
   "cell_type": "code",
   "execution_count": 113,
   "id": "4e4d37db",
   "metadata": {},
   "outputs": [
    {
     "data": {
      "text/html": [
       "<div>\n",
       "<style scoped>\n",
       "    .dataframe tbody tr th:only-of-type {\n",
       "        vertical-align: middle;\n",
       "    }\n",
       "\n",
       "    .dataframe tbody tr th {\n",
       "        vertical-align: top;\n",
       "    }\n",
       "\n",
       "    .dataframe thead th {\n",
       "        text-align: right;\n",
       "    }\n",
       "</style>\n",
       "<table border=\"1\" class=\"dataframe\">\n",
       "  <thead>\n",
       "    <tr style=\"text-align: right;\">\n",
       "      <th></th>\n",
       "      <th>title</th>\n",
       "      <th>comment_text</th>\n",
       "      <th>likes</th>\n",
       "    </tr>\n",
       "  </thead>\n",
       "  <tbody>\n",
       "    <tr>\n",
       "      <th>0</th>\n",
       "      <td>Cat vs Dog - Best Support Class</td>\n",
       "      <td>The second I read this title in my notificatio...</td>\n",
       "      <td>2355</td>\n",
       "    </tr>\n",
       "    <tr>\n",
       "      <th>1</th>\n",
       "      <td>Cat vs Dog - Best Support Class</td>\n",
       "      <td>talk about the ocean sunfish build</td>\n",
       "      <td>1070</td>\n",
       "    </tr>\n",
       "    <tr>\n",
       "      <th>2</th>\n",
       "      <td>Cat vs Dog - Best Support Class</td>\n",
       "      <td>talk about the ocean sunfish build</td>\n",
       "      <td>1021</td>\n",
       "    </tr>\n",
       "    <tr>\n",
       "      <th>3</th>\n",
       "      <td>Cat vs Dog - Best Support Class</td>\n",
       "      <td>talk about the ocean sunfish build</td>\n",
       "      <td>957</td>\n",
       "    </tr>\n",
       "    <tr>\n",
       "      <th>4</th>\n",
       "      <td>9 Things You Need To Know About Kittens - Simo...</td>\n",
       "      <td>I make interesting cartoons and I need your he...</td>\n",
       "      <td>839</td>\n",
       "    </tr>\n",
       "  </tbody>\n",
       "</table>\n",
       "</div>"
      ],
      "text/plain": [
       "                                               title  \\\n",
       "0                    Cat vs Dog - Best Support Class   \n",
       "1                    Cat vs Dog - Best Support Class   \n",
       "2                    Cat vs Dog - Best Support Class   \n",
       "3                    Cat vs Dog - Best Support Class   \n",
       "4  9 Things You Need To Know About Kittens - Simo...   \n",
       "\n",
       "                                        comment_text  likes  \n",
       "0  The second I read this title in my notificatio...   2355  \n",
       "1                 talk about the ocean sunfish build   1070  \n",
       "2                 talk about the ocean sunfish build   1021  \n",
       "3                 talk about the ocean sunfish build    957  \n",
       "4  I make interesting cartoons and I need your he...    839  "
      ]
     },
     "execution_count": 113,
     "metadata": {},
     "output_type": "execute_result"
    }
   ],
   "source": [
    "cats_comments.limit(5).toPandas()"
   ]
  },
  {
   "cell_type": "code",
   "execution_count": null,
   "id": "15ad02b2",
   "metadata": {},
   "outputs": [],
   "source": []
  }
 ],
 "metadata": {
  "kernelspec": {
   "display_name": "Python 3 (ipykernel)",
   "language": "python",
   "name": "python3"
  },
  "language_info": {
   "codemirror_mode": {
    "name": "ipython",
    "version": 3
   },
   "file_extension": ".py",
   "mimetype": "text/x-python",
   "name": "python",
   "nbconvert_exporter": "python",
   "pygments_lexer": "ipython3",
   "version": "3.11.3"
  }
 },
 "nbformat": 4,
 "nbformat_minor": 5
}
